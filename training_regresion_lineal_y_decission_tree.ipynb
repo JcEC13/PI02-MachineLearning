{
  "cells": [
    {
      "cell_type": "code",
      "execution_count": 29,
      "metadata": {
        "id": "4iX8LLm09wEN"
      },
      "outputs": [],
      "source": [
        "#Importar las librerias necesarias para la lectura y procesamiento de datos\n",
        "import pandas as pd\n",
        "import seaborn as sns\n",
        "import numpy as np\n",
        "import matplotlib.pyplot as plt"
      ]
    },
    {
      "cell_type": "code",
      "execution_count": 30,
      "metadata": {
        "id": "0Rn06jP0WYHz"
      },
      "outputs": [],
      "source": [
        "dftrain=pd.read_parquet('../proyecto_ML/train.parquet')\n"
      ]
    },
    {
      "cell_type": "code",
      "execution_count": 31,
      "metadata": {
        "id": "CXKIzmNntv3W"
      },
      "outputs": [],
      "source": [
        "dftest=pd.read_parquet('../proyecto_ML/test.parquet')"
      ]
    },
    {
      "cell_type": "code",
      "execution_count": 32,
      "metadata": {
        "colab": {
          "base_uri": "https://localhost:8080/",
          "height": 629
        },
        "id": "6jK82YzXW5wS",
        "outputId": "343b33f1-7eaa-4ac9-952d-046c99a2df05"
      },
      "outputs": [
        {
          "data": {
            "text/html": [
              "\n",
              "  <div id=\"df-41333ee4-bec9-4552-bcfc-fffa8ae87235\">\n",
              "    <div class=\"colab-df-container\">\n",
              "      <div>\n",
              "<style scoped>\n",
              "    .dataframe tbody tr th:only-of-type {\n",
              "        vertical-align: middle;\n",
              "    }\n",
              "\n",
              "    .dataframe tbody tr th {\n",
              "        vertical-align: top;\n",
              "    }\n",
              "\n",
              "    .dataframe thead th {\n",
              "        text-align: right;\n",
              "    }\n",
              "</style>\n",
              "<table border=\"1\" class=\"dataframe\">\n",
              "  <thead>\n",
              "    <tr style=\"text-align: right;\">\n",
              "      <th></th>\n",
              "      <th>id</th>\n",
              "      <th>url</th>\n",
              "      <th>region</th>\n",
              "      <th>region_url</th>\n",
              "      <th>price</th>\n",
              "      <th>type</th>\n",
              "      <th>sqfeet</th>\n",
              "      <th>beds</th>\n",
              "      <th>baths</th>\n",
              "      <th>cats_allowed</th>\n",
              "      <th>...</th>\n",
              "      <th>wheelchair_access</th>\n",
              "      <th>electric_vehicle_charge</th>\n",
              "      <th>comes_furnished</th>\n",
              "      <th>laundry_options</th>\n",
              "      <th>parking_options</th>\n",
              "      <th>image_url</th>\n",
              "      <th>description</th>\n",
              "      <th>lat</th>\n",
              "      <th>long</th>\n",
              "      <th>state</th>\n",
              "    </tr>\n",
              "  </thead>\n",
              "  <tbody>\n",
              "    <tr>\n",
              "      <th>0</th>\n",
              "      <td>7048013474</td>\n",
              "      <td>https://boise.craigslist.org/apa/d/very-nice-b...</td>\n",
              "      <td>boise</td>\n",
              "      <td>https://boise.craigslist.org</td>\n",
              "      <td>1350</td>\n",
              "      <td>house</td>\n",
              "      <td>1200</td>\n",
              "      <td>2</td>\n",
              "      <td>2.0</td>\n",
              "      <td>1</td>\n",
              "      <td>...</td>\n",
              "      <td>0</td>\n",
              "      <td>0</td>\n",
              "      <td>0</td>\n",
              "      <td>w/d in unit</td>\n",
              "      <td>detached garage</td>\n",
              "      <td>https://images.craigslist.org/00B0B_cPiJMEheZe...</td>\n",
              "      <td>Super cute row house in the Boise bench area. ...</td>\n",
              "      <td>43.5851</td>\n",
              "      <td>-116.2250</td>\n",
              "      <td>id</td>\n",
              "    </tr>\n",
              "    <tr>\n",
              "      <th>1</th>\n",
              "      <td>7043931179</td>\n",
              "      <td>https://cosprings.craigslist.org/apa/d/colorad...</td>\n",
              "      <td>colorado springs</td>\n",
              "      <td>https://cosprings.craigslist.org</td>\n",
              "      <td>1115</td>\n",
              "      <td>apartment</td>\n",
              "      <td>694</td>\n",
              "      <td>1</td>\n",
              "      <td>1.0</td>\n",
              "      <td>1</td>\n",
              "      <td>...</td>\n",
              "      <td>0</td>\n",
              "      <td>0</td>\n",
              "      <td>0</td>\n",
              "      <td>w/d in unit</td>\n",
              "      <td>carport</td>\n",
              "      <td>https://images.craigslist.org/00R0R_5XAoSKvfrz...</td>\n",
              "      <td>Windtree Apartment Homes currently has a spaci...</td>\n",
              "      <td>38.9137</td>\n",
              "      <td>-104.7800</td>\n",
              "      <td>co</td>\n",
              "    </tr>\n",
              "    <tr>\n",
              "      <th>2</th>\n",
              "      <td>7048254516</td>\n",
              "      <td>https://norfolk.craigslist.org/apa/d/virginia-...</td>\n",
              "      <td>norfolk / hampton roads</td>\n",
              "      <td>https://norfolk.craigslist.org</td>\n",
              "      <td>1129</td>\n",
              "      <td>apartment</td>\n",
              "      <td>900</td>\n",
              "      <td>2</td>\n",
              "      <td>2.0</td>\n",
              "      <td>0</td>\n",
              "      <td>...</td>\n",
              "      <td>0</td>\n",
              "      <td>0</td>\n",
              "      <td>0</td>\n",
              "      <td>w/d hookups</td>\n",
              "      <td>off-street parking</td>\n",
              "      <td>https://images.craigslist.org/00f0f_3ZbTFrsHpZ...</td>\n",
              "      <td>Call Today!  show contact info   Indian Lakes ...</td>\n",
              "      <td>36.7922</td>\n",
              "      <td>-76.1643</td>\n",
              "      <td>va</td>\n",
              "    </tr>\n",
              "    <tr>\n",
              "      <th>3</th>\n",
              "      <td>7041032577</td>\n",
              "      <td>https://phoenix.craigslist.org/nph/apa/d/phoen...</td>\n",
              "      <td>phoenix</td>\n",
              "      <td>https://phoenix.craigslist.org</td>\n",
              "      <td>1580</td>\n",
              "      <td>house</td>\n",
              "      <td>1469</td>\n",
              "      <td>3</td>\n",
              "      <td>2.0</td>\n",
              "      <td>1</td>\n",
              "      <td>...</td>\n",
              "      <td>0</td>\n",
              "      <td>0</td>\n",
              "      <td>0</td>\n",
              "      <td>w/d in unit</td>\n",
              "      <td>None</td>\n",
              "      <td>https://images.craigslist.org/00f0f_aXV5Dkd5qk...</td>\n",
              "      <td>Cody Anderson Two Brothers Realty License #: S...</td>\n",
              "      <td>33.5623</td>\n",
              "      <td>-112.0560</td>\n",
              "      <td>az</td>\n",
              "    </tr>\n",
              "    <tr>\n",
              "      <th>4</th>\n",
              "      <td>7048588701</td>\n",
              "      <td>https://nashville.craigslist.org/apa/d/antioch...</td>\n",
              "      <td>nashville</td>\n",
              "      <td>https://nashville.craigslist.org</td>\n",
              "      <td>995</td>\n",
              "      <td>apartment</td>\n",
              "      <td>700</td>\n",
              "      <td>1</td>\n",
              "      <td>1.0</td>\n",
              "      <td>1</td>\n",
              "      <td>...</td>\n",
              "      <td>0</td>\n",
              "      <td>0</td>\n",
              "      <td>0</td>\n",
              "      <td>w/d in unit</td>\n",
              "      <td>carport</td>\n",
              "      <td>https://images.craigslist.org/00606_gYOGKClOHv...</td>\n",
              "      <td>To schedule a tour We now book our tour appoin...</td>\n",
              "      <td>36.0595</td>\n",
              "      <td>-86.6592</td>\n",
              "      <td>tn</td>\n",
              "    </tr>\n",
              "  </tbody>\n",
              "</table>\n",
              "<p>5 rows × 22 columns</p>\n",
              "</div>\n",
              "      <button class=\"colab-df-convert\" onclick=\"convertToInteractive('df-41333ee4-bec9-4552-bcfc-fffa8ae87235')\"\n",
              "              title=\"Convert this dataframe to an interactive table.\"\n",
              "              style=\"display:none;\">\n",
              "        \n",
              "  <svg xmlns=\"http://www.w3.org/2000/svg\" height=\"24px\"viewBox=\"0 0 24 24\"\n",
              "       width=\"24px\">\n",
              "    <path d=\"M0 0h24v24H0V0z\" fill=\"none\"/>\n",
              "    <path d=\"M18.56 5.44l.94 2.06.94-2.06 2.06-.94-2.06-.94-.94-2.06-.94 2.06-2.06.94zm-11 1L8.5 8.5l.94-2.06 2.06-.94-2.06-.94L8.5 2.5l-.94 2.06-2.06.94zm10 10l.94 2.06.94-2.06 2.06-.94-2.06-.94-.94-2.06-.94 2.06-2.06.94z\"/><path d=\"M17.41 7.96l-1.37-1.37c-.4-.4-.92-.59-1.43-.59-.52 0-1.04.2-1.43.59L10.3 9.45l-7.72 7.72c-.78.78-.78 2.05 0 2.83L4 21.41c.39.39.9.59 1.41.59.51 0 1.02-.2 1.41-.59l7.78-7.78 2.81-2.81c.8-.78.8-2.07 0-2.86zM5.41 20L4 18.59l7.72-7.72 1.47 1.35L5.41 20z\"/>\n",
              "  </svg>\n",
              "      </button>\n",
              "      \n",
              "  <style>\n",
              "    .colab-df-container {\n",
              "      display:flex;\n",
              "      flex-wrap:wrap;\n",
              "      gap: 12px;\n",
              "    }\n",
              "\n",
              "    .colab-df-convert {\n",
              "      background-color: #E8F0FE;\n",
              "      border: none;\n",
              "      border-radius: 50%;\n",
              "      cursor: pointer;\n",
              "      display: none;\n",
              "      fill: #1967D2;\n",
              "      height: 32px;\n",
              "      padding: 0 0 0 0;\n",
              "      width: 32px;\n",
              "    }\n",
              "\n",
              "    .colab-df-convert:hover {\n",
              "      background-color: #E2EBFA;\n",
              "      box-shadow: 0px 1px 2px rgba(60, 64, 67, 0.3), 0px 1px 3px 1px rgba(60, 64, 67, 0.15);\n",
              "      fill: #174EA6;\n",
              "    }\n",
              "\n",
              "    [theme=dark] .colab-df-convert {\n",
              "      background-color: #3B4455;\n",
              "      fill: #D2E3FC;\n",
              "    }\n",
              "\n",
              "    [theme=dark] .colab-df-convert:hover {\n",
              "      background-color: #434B5C;\n",
              "      box-shadow: 0px 1px 3px 1px rgba(0, 0, 0, 0.15);\n",
              "      filter: drop-shadow(0px 1px 2px rgba(0, 0, 0, 0.3));\n",
              "      fill: #FFFFFF;\n",
              "    }\n",
              "  </style>\n",
              "\n",
              "      <script>\n",
              "        const buttonEl =\n",
              "          document.querySelector('#df-41333ee4-bec9-4552-bcfc-fffa8ae87235 button.colab-df-convert');\n",
              "        buttonEl.style.display =\n",
              "          google.colab.kernel.accessAllowed ? 'block' : 'none';\n",
              "\n",
              "        async function convertToInteractive(key) {\n",
              "          const element = document.querySelector('#df-41333ee4-bec9-4552-bcfc-fffa8ae87235');\n",
              "          const dataTable =\n",
              "            await google.colab.kernel.invokeFunction('convertToInteractive',\n",
              "                                                     [key], {});\n",
              "          if (!dataTable) return;\n",
              "\n",
              "          const docLinkHtml = 'Like what you see? Visit the ' +\n",
              "            '<a target=\"_blank\" href=https://colab.research.google.com/notebooks/data_table.ipynb>data table notebook</a>'\n",
              "            + ' to learn more about interactive tables.';\n",
              "          element.innerHTML = '';\n",
              "          dataTable['output_type'] = 'display_data';\n",
              "          await google.colab.output.renderOutput(dataTable, element);\n",
              "          const docLink = document.createElement('div');\n",
              "          docLink.innerHTML = docLinkHtml;\n",
              "          element.appendChild(docLink);\n",
              "        }\n",
              "      </script>\n",
              "    </div>\n",
              "  </div>\n",
              "  "
            ],
            "text/plain": [
              "           id                                                url  \\\n",
              "0  7048013474  https://boise.craigslist.org/apa/d/very-nice-b...   \n",
              "1  7043931179  https://cosprings.craigslist.org/apa/d/colorad...   \n",
              "2  7048254516  https://norfolk.craigslist.org/apa/d/virginia-...   \n",
              "3  7041032577  https://phoenix.craigslist.org/nph/apa/d/phoen...   \n",
              "4  7048588701  https://nashville.craigslist.org/apa/d/antioch...   \n",
              "\n",
              "                    region                        region_url  price  \\\n",
              "0                    boise      https://boise.craigslist.org   1350   \n",
              "1         colorado springs  https://cosprings.craigslist.org   1115   \n",
              "2  norfolk / hampton roads    https://norfolk.craigslist.org   1129   \n",
              "3                  phoenix    https://phoenix.craigslist.org   1580   \n",
              "4                nashville  https://nashville.craigslist.org    995   \n",
              "\n",
              "        type  sqfeet  beds  baths  cats_allowed  ...  wheelchair_access  \\\n",
              "0      house    1200     2    2.0             1  ...                  0   \n",
              "1  apartment     694     1    1.0             1  ...                  0   \n",
              "2  apartment     900     2    2.0             0  ...                  0   \n",
              "3      house    1469     3    2.0             1  ...                  0   \n",
              "4  apartment     700     1    1.0             1  ...                  0   \n",
              "\n",
              "   electric_vehicle_charge  comes_furnished  laundry_options  \\\n",
              "0                        0                0      w/d in unit   \n",
              "1                        0                0      w/d in unit   \n",
              "2                        0                0      w/d hookups   \n",
              "3                        0                0      w/d in unit   \n",
              "4                        0                0      w/d in unit   \n",
              "\n",
              "      parking_options                                          image_url  \\\n",
              "0     detached garage  https://images.craigslist.org/00B0B_cPiJMEheZe...   \n",
              "1             carport  https://images.craigslist.org/00R0R_5XAoSKvfrz...   \n",
              "2  off-street parking  https://images.craigslist.org/00f0f_3ZbTFrsHpZ...   \n",
              "3                None  https://images.craigslist.org/00f0f_aXV5Dkd5qk...   \n",
              "4             carport  https://images.craigslist.org/00606_gYOGKClOHv...   \n",
              "\n",
              "                                         description      lat      long  state  \n",
              "0  Super cute row house in the Boise bench area. ...  43.5851 -116.2250     id  \n",
              "1  Windtree Apartment Homes currently has a spaci...  38.9137 -104.7800     co  \n",
              "2  Call Today!  show contact info   Indian Lakes ...  36.7922  -76.1643     va  \n",
              "3  Cody Anderson Two Brothers Realty License #: S...  33.5623 -112.0560     az  \n",
              "4  To schedule a tour We now book our tour appoin...  36.0595  -86.6592     tn  \n",
              "\n",
              "[5 rows x 22 columns]"
            ]
          },
          "execution_count": 32,
          "metadata": {},
          "output_type": "execute_result"
        }
      ],
      "source": [
        "#Verificar la correcta importacion de dftrain y brindar un primer panorama de sus columnas\n",
        "dftrain.head()"
      ]
    },
    {
      "cell_type": "code",
      "execution_count": 33,
      "metadata": {
        "colab": {
          "base_uri": "https://localhost:8080/",
          "height": 681
        },
        "id": "XwPDd15zW9Z_",
        "outputId": "9a29af4b-abdf-4cec-c1a6-75e2b04bc6f4"
      },
      "outputs": [
        {
          "data": {
            "text/html": [
              "\n",
              "  <div id=\"df-38fbd58b-96da-4ac7-94a1-66c35222f768\">\n",
              "    <div class=\"colab-df-container\">\n",
              "      <div>\n",
              "<style scoped>\n",
              "    .dataframe tbody tr th:only-of-type {\n",
              "        vertical-align: middle;\n",
              "    }\n",
              "\n",
              "    .dataframe tbody tr th {\n",
              "        vertical-align: top;\n",
              "    }\n",
              "\n",
              "    .dataframe thead th {\n",
              "        text-align: right;\n",
              "    }\n",
              "</style>\n",
              "<table border=\"1\" class=\"dataframe\">\n",
              "  <thead>\n",
              "    <tr style=\"text-align: right;\">\n",
              "      <th></th>\n",
              "      <th>id</th>\n",
              "      <th>url</th>\n",
              "      <th>region</th>\n",
              "      <th>region_url</th>\n",
              "      <th>type</th>\n",
              "      <th>sqfeet</th>\n",
              "      <th>beds</th>\n",
              "      <th>baths</th>\n",
              "      <th>cats_allowed</th>\n",
              "      <th>dogs_allowed</th>\n",
              "      <th>...</th>\n",
              "      <th>wheelchair_access</th>\n",
              "      <th>electric_vehicle_charge</th>\n",
              "      <th>comes_furnished</th>\n",
              "      <th>laundry_options</th>\n",
              "      <th>parking_options</th>\n",
              "      <th>image_url</th>\n",
              "      <th>description</th>\n",
              "      <th>lat</th>\n",
              "      <th>long</th>\n",
              "      <th>state</th>\n",
              "    </tr>\n",
              "  </thead>\n",
              "  <tbody>\n",
              "    <tr>\n",
              "      <th>0</th>\n",
              "      <td>7037609789</td>\n",
              "      <td>https://annarbor.craigslist.org/apa/d/wixom-ho...</td>\n",
              "      <td>ann arbor</td>\n",
              "      <td>https://annarbor.craigslist.org</td>\n",
              "      <td>manufactured</td>\n",
              "      <td>1344</td>\n",
              "      <td>3</td>\n",
              "      <td>2.0</td>\n",
              "      <td>0</td>\n",
              "      <td>0</td>\n",
              "      <td>...</td>\n",
              "      <td>0</td>\n",
              "      <td>0</td>\n",
              "      <td>0</td>\n",
              "      <td>w/d in unit</td>\n",
              "      <td>off-street parking</td>\n",
              "      <td>https://images.craigslist.org/00M0M_iNczP1nzIL...</td>\n",
              "      <td>OPEN HOUSE TODAY! APPLY THIS WEEK, PUT A HOLDI...</td>\n",
              "      <td>42.5333</td>\n",
              "      <td>-83.5763</td>\n",
              "      <td>mi</td>\n",
              "    </tr>\n",
              "    <tr>\n",
              "      <th>1</th>\n",
              "      <td>7032406876</td>\n",
              "      <td>https://vermont.craigslist.org/apa/d/randolph-...</td>\n",
              "      <td>vermont</td>\n",
              "      <td>https://vermont.craigslist.org</td>\n",
              "      <td>apartment</td>\n",
              "      <td>1050</td>\n",
              "      <td>2</td>\n",
              "      <td>1.0</td>\n",
              "      <td>0</td>\n",
              "      <td>0</td>\n",
              "      <td>...</td>\n",
              "      <td>0</td>\n",
              "      <td>0</td>\n",
              "      <td>0</td>\n",
              "      <td>w/d hookups</td>\n",
              "      <td>off-street parking</td>\n",
              "      <td>https://images.craigslist.org/00L0L_ecirmYBIzL...</td>\n",
              "      <td>Think of it, you'll be first to get your mail....</td>\n",
              "      <td>43.9393</td>\n",
              "      <td>-72.5538</td>\n",
              "      <td>vt</td>\n",
              "    </tr>\n",
              "    <tr>\n",
              "      <th>2</th>\n",
              "      <td>7037022682</td>\n",
              "      <td>https://annarbor.craigslist.org/apa/d/ann-arbo...</td>\n",
              "      <td>ann arbor</td>\n",
              "      <td>https://annarbor.craigslist.org</td>\n",
              "      <td>apartment</td>\n",
              "      <td>1150</td>\n",
              "      <td>2</td>\n",
              "      <td>2.0</td>\n",
              "      <td>1</td>\n",
              "      <td>1</td>\n",
              "      <td>...</td>\n",
              "      <td>1</td>\n",
              "      <td>0</td>\n",
              "      <td>0</td>\n",
              "      <td>w/d in unit</td>\n",
              "      <td>carport</td>\n",
              "      <td>https://images.craigslist.org/00e0e_dPln2xjo9g...</td>\n",
              "      <td>One of Ann Arbor's most luxurious apartment co...</td>\n",
              "      <td>42.2492</td>\n",
              "      <td>-83.7712</td>\n",
              "      <td>mi</td>\n",
              "    </tr>\n",
              "    <tr>\n",
              "      <th>3</th>\n",
              "      <td>7048681802</td>\n",
              "      <td>https://fortcollins.craigslist.org/apa/d/fort-...</td>\n",
              "      <td>fort collins / north CO</td>\n",
              "      <td>https://fortcollins.craigslist.org</td>\n",
              "      <td>apartment</td>\n",
              "      <td>1280</td>\n",
              "      <td>2</td>\n",
              "      <td>2.5</td>\n",
              "      <td>1</td>\n",
              "      <td>1</td>\n",
              "      <td>...</td>\n",
              "      <td>0</td>\n",
              "      <td>0</td>\n",
              "      <td>0</td>\n",
              "      <td>w/d in unit</td>\n",
              "      <td>attached garage</td>\n",
              "      <td>https://images.craigslist.org/00L0L_jlektT5cSd...</td>\n",
              "      <td>Specials! Move in before January 16th, 2020 an...</td>\n",
              "      <td>40.5501</td>\n",
              "      <td>-105.0350</td>\n",
              "      <td>co</td>\n",
              "    </tr>\n",
              "    <tr>\n",
              "      <th>4</th>\n",
              "      <td>7043597870</td>\n",
              "      <td>https://charlottesville.craigslist.org/apa/d/c...</td>\n",
              "      <td>charlottesville</td>\n",
              "      <td>https://charlottesville.craigslist.org</td>\n",
              "      <td>apartment</td>\n",
              "      <td>783</td>\n",
              "      <td>2</td>\n",
              "      <td>1.0</td>\n",
              "      <td>1</td>\n",
              "      <td>1</td>\n",
              "      <td>...</td>\n",
              "      <td>0</td>\n",
              "      <td>0</td>\n",
              "      <td>0</td>\n",
              "      <td>laundry on site</td>\n",
              "      <td>None</td>\n",
              "      <td>https://images.craigslist.org/00D0D_cXa4KbZ6ox...</td>\n",
              "      <td>Barracks West Apartments &amp; Townhomes in Charlo...</td>\n",
              "      <td>38.0936</td>\n",
              "      <td>-78.5611</td>\n",
              "      <td>va</td>\n",
              "    </tr>\n",
              "  </tbody>\n",
              "</table>\n",
              "<p>5 rows × 21 columns</p>\n",
              "</div>\n",
              "      <button class=\"colab-df-convert\" onclick=\"convertToInteractive('df-38fbd58b-96da-4ac7-94a1-66c35222f768')\"\n",
              "              title=\"Convert this dataframe to an interactive table.\"\n",
              "              style=\"display:none;\">\n",
              "        \n",
              "  <svg xmlns=\"http://www.w3.org/2000/svg\" height=\"24px\"viewBox=\"0 0 24 24\"\n",
              "       width=\"24px\">\n",
              "    <path d=\"M0 0h24v24H0V0z\" fill=\"none\"/>\n",
              "    <path d=\"M18.56 5.44l.94 2.06.94-2.06 2.06-.94-2.06-.94-.94-2.06-.94 2.06-2.06.94zm-11 1L8.5 8.5l.94-2.06 2.06-.94-2.06-.94L8.5 2.5l-.94 2.06-2.06.94zm10 10l.94 2.06.94-2.06 2.06-.94-2.06-.94-.94-2.06-.94 2.06-2.06.94z\"/><path d=\"M17.41 7.96l-1.37-1.37c-.4-.4-.92-.59-1.43-.59-.52 0-1.04.2-1.43.59L10.3 9.45l-7.72 7.72c-.78.78-.78 2.05 0 2.83L4 21.41c.39.39.9.59 1.41.59.51 0 1.02-.2 1.41-.59l7.78-7.78 2.81-2.81c.8-.78.8-2.07 0-2.86zM5.41 20L4 18.59l7.72-7.72 1.47 1.35L5.41 20z\"/>\n",
              "  </svg>\n",
              "      </button>\n",
              "      \n",
              "  <style>\n",
              "    .colab-df-container {\n",
              "      display:flex;\n",
              "      flex-wrap:wrap;\n",
              "      gap: 12px;\n",
              "    }\n",
              "\n",
              "    .colab-df-convert {\n",
              "      background-color: #E8F0FE;\n",
              "      border: none;\n",
              "      border-radius: 50%;\n",
              "      cursor: pointer;\n",
              "      display: none;\n",
              "      fill: #1967D2;\n",
              "      height: 32px;\n",
              "      padding: 0 0 0 0;\n",
              "      width: 32px;\n",
              "    }\n",
              "\n",
              "    .colab-df-convert:hover {\n",
              "      background-color: #E2EBFA;\n",
              "      box-shadow: 0px 1px 2px rgba(60, 64, 67, 0.3), 0px 1px 3px 1px rgba(60, 64, 67, 0.15);\n",
              "      fill: #174EA6;\n",
              "    }\n",
              "\n",
              "    [theme=dark] .colab-df-convert {\n",
              "      background-color: #3B4455;\n",
              "      fill: #D2E3FC;\n",
              "    }\n",
              "\n",
              "    [theme=dark] .colab-df-convert:hover {\n",
              "      background-color: #434B5C;\n",
              "      box-shadow: 0px 1px 3px 1px rgba(0, 0, 0, 0.15);\n",
              "      filter: drop-shadow(0px 1px 2px rgba(0, 0, 0, 0.3));\n",
              "      fill: #FFFFFF;\n",
              "    }\n",
              "  </style>\n",
              "\n",
              "      <script>\n",
              "        const buttonEl =\n",
              "          document.querySelector('#df-38fbd58b-96da-4ac7-94a1-66c35222f768 button.colab-df-convert');\n",
              "        buttonEl.style.display =\n",
              "          google.colab.kernel.accessAllowed ? 'block' : 'none';\n",
              "\n",
              "        async function convertToInteractive(key) {\n",
              "          const element = document.querySelector('#df-38fbd58b-96da-4ac7-94a1-66c35222f768');\n",
              "          const dataTable =\n",
              "            await google.colab.kernel.invokeFunction('convertToInteractive',\n",
              "                                                     [key], {});\n",
              "          if (!dataTable) return;\n",
              "\n",
              "          const docLinkHtml = 'Like what you see? Visit the ' +\n",
              "            '<a target=\"_blank\" href=https://colab.research.google.com/notebooks/data_table.ipynb>data table notebook</a>'\n",
              "            + ' to learn more about interactive tables.';\n",
              "          element.innerHTML = '';\n",
              "          dataTable['output_type'] = 'display_data';\n",
              "          await google.colab.output.renderOutput(dataTable, element);\n",
              "          const docLink = document.createElement('div');\n",
              "          docLink.innerHTML = docLinkHtml;\n",
              "          element.appendChild(docLink);\n",
              "        }\n",
              "      </script>\n",
              "    </div>\n",
              "  </div>\n",
              "  "
            ],
            "text/plain": [
              "           id                                                url  \\\n",
              "0  7037609789  https://annarbor.craigslist.org/apa/d/wixom-ho...   \n",
              "1  7032406876  https://vermont.craigslist.org/apa/d/randolph-...   \n",
              "2  7037022682  https://annarbor.craigslist.org/apa/d/ann-arbo...   \n",
              "3  7048681802  https://fortcollins.craigslist.org/apa/d/fort-...   \n",
              "4  7043597870  https://charlottesville.craigslist.org/apa/d/c...   \n",
              "\n",
              "                    region                              region_url  \\\n",
              "0                ann arbor         https://annarbor.craigslist.org   \n",
              "1                  vermont          https://vermont.craigslist.org   \n",
              "2                ann arbor         https://annarbor.craigslist.org   \n",
              "3  fort collins / north CO      https://fortcollins.craigslist.org   \n",
              "4          charlottesville  https://charlottesville.craigslist.org   \n",
              "\n",
              "           type  sqfeet  beds  baths  cats_allowed  dogs_allowed  ...  \\\n",
              "0  manufactured    1344     3    2.0             0             0  ...   \n",
              "1     apartment    1050     2    1.0             0             0  ...   \n",
              "2     apartment    1150     2    2.0             1             1  ...   \n",
              "3     apartment    1280     2    2.5             1             1  ...   \n",
              "4     apartment     783     2    1.0             1             1  ...   \n",
              "\n",
              "   wheelchair_access  electric_vehicle_charge  comes_furnished  \\\n",
              "0                  0                        0                0   \n",
              "1                  0                        0                0   \n",
              "2                  1                        0                0   \n",
              "3                  0                        0                0   \n",
              "4                  0                        0                0   \n",
              "\n",
              "   laundry_options     parking_options  \\\n",
              "0      w/d in unit  off-street parking   \n",
              "1      w/d hookups  off-street parking   \n",
              "2      w/d in unit             carport   \n",
              "3      w/d in unit     attached garage   \n",
              "4  laundry on site                None   \n",
              "\n",
              "                                           image_url  \\\n",
              "0  https://images.craigslist.org/00M0M_iNczP1nzIL...   \n",
              "1  https://images.craigslist.org/00L0L_ecirmYBIzL...   \n",
              "2  https://images.craigslist.org/00e0e_dPln2xjo9g...   \n",
              "3  https://images.craigslist.org/00L0L_jlektT5cSd...   \n",
              "4  https://images.craigslist.org/00D0D_cXa4KbZ6ox...   \n",
              "\n",
              "                                         description      lat      long  state  \n",
              "0  OPEN HOUSE TODAY! APPLY THIS WEEK, PUT A HOLDI...  42.5333  -83.5763     mi  \n",
              "1  Think of it, you'll be first to get your mail....  43.9393  -72.5538     vt  \n",
              "2  One of Ann Arbor's most luxurious apartment co...  42.2492  -83.7712     mi  \n",
              "3  Specials! Move in before January 16th, 2020 an...  40.5501 -105.0350     co  \n",
              "4  Barracks West Apartments & Townhomes in Charlo...  38.0936  -78.5611     va  \n",
              "\n",
              "[5 rows x 21 columns]"
            ]
          },
          "execution_count": 33,
          "metadata": {},
          "output_type": "execute_result"
        }
      ],
      "source": [
        "#Verificar la correcta importacion de dftest y brindar un primer panorama de sus columnas\n",
        "dftest.head()"
      ]
    },
    {
      "cell_type": "code",
      "execution_count": 34,
      "metadata": {
        "colab": {
          "base_uri": "https://localhost:8080/"
        },
        "id": "7UdAqSCeXHNv",
        "outputId": "a4c43c32-8174-4d1e-94ea-3515df972e49"
      },
      "outputs": [
        {
          "name": "stdout",
          "output_type": "stream",
          "text": [
            "<class 'pandas.core.frame.DataFrame'>\n",
            "RangeIndex: 346479 entries, 0 to 346478\n",
            "Data columns (total 22 columns):\n",
            " #   Column                   Non-Null Count   Dtype  \n",
            "---  ------                   --------------   -----  \n",
            " 0   id                       346479 non-null  int64  \n",
            " 1   url                      346479 non-null  object \n",
            " 2   region                   346479 non-null  object \n",
            " 3   region_url               346479 non-null  object \n",
            " 4   price                    346479 non-null  int64  \n",
            " 5   type                     346479 non-null  object \n",
            " 6   sqfeet                   346479 non-null  int64  \n",
            " 7   beds                     346479 non-null  int64  \n",
            " 8   baths                    346479 non-null  float64\n",
            " 9   cats_allowed             346479 non-null  int64  \n",
            " 10  dogs_allowed             346479 non-null  int64  \n",
            " 11  smoking_allowed          346479 non-null  int64  \n",
            " 12  wheelchair_access        346479 non-null  int64  \n",
            " 13  electric_vehicle_charge  346479 non-null  int64  \n",
            " 14  comes_furnished          346479 non-null  int64  \n",
            " 15  laundry_options          275308 non-null  object \n",
            " 16  parking_options          219797 non-null  object \n",
            " 17  image_url                346479 non-null  object \n",
            " 18  description              346477 non-null  object \n",
            " 19  lat                      344757 non-null  float64\n",
            " 20  long                     344757 non-null  float64\n",
            " 21  state                    346479 non-null  object \n",
            "dtypes: float64(3), int64(10), object(9)\n",
            "memory usage: 58.2+ MB\n"
          ]
        }
      ],
      "source": [
        "#Revisar informacion general del DataFrame\n",
        "dftrain.info() "
      ]
    },
    {
      "cell_type": "code",
      "execution_count": 9,
      "metadata": {
        "id": "f05KD8yFXPFa"
      },
      "outputs": [],
      "source": [
        "#Eliminar comlumnas que no son relevantes para el estudio\n",
        "dftrain=dftrain.drop(['id','url','region_url','image_url','description'], axis=1)"
      ]
    },
    {
      "cell_type": "code",
      "execution_count": 11,
      "metadata": {
        "colab": {
          "base_uri": "https://localhost:8080/"
        },
        "id": "agGU0ZaQXXcX",
        "outputId": "83279454-1797-4595-f8f5-b9bead9d241b"
      },
      "outputs": [
        {
          "data": {
            "text/plain": [
              "region                          0\n",
              "price                           0\n",
              "type                            0\n",
              "sqfeet                          0\n",
              "beds                            0\n",
              "baths                           0\n",
              "cats_allowed                    0\n",
              "dogs_allowed                    0\n",
              "smoking_allowed                 0\n",
              "wheelchair_access               0\n",
              "electric_vehicle_charge         0\n",
              "comes_furnished                 0\n",
              "laundry_options             71171\n",
              "parking_options            126682\n",
              "lat                          1722\n",
              "long                         1722\n",
              "state                           0\n",
              "dtype: int64"
            ]
          },
          "execution_count": 11,
          "metadata": {},
          "output_type": "execute_result"
        }
      ],
      "source": [
        "#Revisar a mayor detalle los valores nulos\n",
        "dftrain.isna().sum()"
      ]
    },
    {
      "cell_type": "code",
      "execution_count": 12,
      "metadata": {
        "colab": {
          "base_uri": "https://localhost:8080/"
        },
        "id": "GKK6ocrLXasK",
        "outputId": "d9b47120-6683-4168-8eca-d817e3ed47ac"
      },
      "outputs": [
        {
          "data": {
            "text/plain": [
              "344757"
            ]
          },
          "execution_count": 12,
          "metadata": {},
          "output_type": "execute_result"
        }
      ],
      "source": [
        "#Eliminar valores nulos en la columna long y lat\n",
        "dftrain = dftrain[dftrain.long.isna() == False]\n",
        "dftrain = dftrain[dftrain.lat.isna() == False]\n",
        "len(dftrain)"
      ]
    },
    {
      "cell_type": "code",
      "execution_count": 13,
      "metadata": {
        "id": "aDBj_pGgXgmt"
      },
      "outputs": [],
      "source": [
        "#Reemplazar los valores nulos de laundry_options y parking_options\n",
        "#por valores que indican ausencia de esta caracteristica\n",
        "dftrain.loc[dftrain.laundry_options.isna()==True,'laundry_options']='no laundry on site'\n",
        "dftrain.loc[dftrain.parking_options.isna()==True,'parking_options']='no parking'"
      ]
    },
    {
      "cell_type": "code",
      "execution_count": 14,
      "metadata": {
        "colab": {
          "base_uri": "https://localhost:8080/"
        },
        "id": "0P84vZp-XkHU",
        "outputId": "0d15592c-23d0-42cc-efa7-eaaa9f32ab92"
      },
      "outputs": [
        {
          "data": {
            "text/plain": [
              "region                     0\n",
              "price                      0\n",
              "type                       0\n",
              "sqfeet                     0\n",
              "beds                       0\n",
              "baths                      0\n",
              "cats_allowed               0\n",
              "dogs_allowed               0\n",
              "smoking_allowed            0\n",
              "wheelchair_access          0\n",
              "electric_vehicle_charge    0\n",
              "comes_furnished            0\n",
              "laundry_options            0\n",
              "parking_options            0\n",
              "lat                        0\n",
              "long                       0\n",
              "state                      0\n",
              "dtype: int64"
            ]
          },
          "execution_count": 14,
          "metadata": {},
          "output_type": "execute_result"
        }
      ],
      "source": [
        "#Comprobar si el tratamiento de nulos se hizo correctamente\n",
        "dftrain.isna().sum()"
      ]
    },
    {
      "cell_type": "code",
      "execution_count": 15,
      "metadata": {
        "colab": {
          "base_uri": "https://localhost:8080/"
        },
        "id": "Dtw5WIs37yJ1",
        "outputId": "1132ddf1-41d5-4c0a-cb8e-df6acbad14ae"
      },
      "outputs": [
        {
          "data": {
            "text/plain": [
              "w/d in unit           117798\n",
              "no laundry on site     74153\n",
              "w/d hookups            67543\n",
              "laundry on site        52849\n",
              "laundry in bldg        32414\n",
              "Name: laundry_options, dtype: int64"
            ]
          },
          "execution_count": 15,
          "metadata": {},
          "output_type": "execute_result"
        }
      ],
      "source": [
        "#Revisar los valores de la columna modificada\n",
        "dftrain.laundry_options.value_counts()"
      ]
    },
    {
      "cell_type": "code",
      "execution_count": 16,
      "metadata": {
        "colab": {
          "base_uri": "https://localhost:8080/"
        },
        "id": "XzOp4e-gXnYm",
        "outputId": "6247ed1d-803e-48e9-9460-366675026be3"
      },
      "outputs": [
        {
          "data": {
            "text/plain": [
              "no parking            128743\n",
              "off-street parking    115361\n",
              "attached garage        35985\n",
              "carport                34972\n",
              "detached garage        15233\n",
              "street parking         14333\n",
              "valet parking            130\n",
              "Name: parking_options, dtype: int64"
            ]
          },
          "execution_count": 16,
          "metadata": {},
          "output_type": "execute_result"
        }
      ],
      "source": [
        "#Revisar los valores de la columna modificada\n",
        "dftrain.parking_options.value_counts()"
      ]
    },
    {
      "cell_type": "code",
      "execution_count": 17,
      "metadata": {
        "colab": {
          "base_uri": "https://localhost:8080/",
          "height": 459
        },
        "id": "SiDJWGTjXqaV",
        "outputId": "eb965353-23db-4971-fc91-070ade51c32a"
      },
      "outputs": [
        {
          "data": {
            "text/plain": [
              "<matplotlib.axes._subplots.AxesSubplot at 0x7ffb5e60e6d0>"
            ]
          },
          "execution_count": 17,
          "metadata": {},
          "output_type": "execute_result"
        },
        {
          "data": {
            "image/png": "[encoded data removed]",
            "text/plain": [
              "<Figure size 720x504 with 1 Axes>"
            ]
          },
          "metadata": {
            "needs_background": "light"
          },
          "output_type": "display_data"
        }
      ],
      "source": [
        "#Visualizar un panorama de ubicacion mediante las coordenadas del DataFrame\n",
        "dftrain.plot(kind='scatter', x='long', y='lat', figsize=(10,7))"
      ]
    },
    {
      "cell_type": "code",
      "execution_count": 18,
      "metadata": {
        "colab": {
          "base_uri": "https://localhost:8080/",
          "height": 490
        },
        "id": "NRTb26gXXx6h",
        "outputId": "8bcd22aa-cacc-4ad7-bad6-5a32f7ecb343"
      },
      "outputs": [
        {
          "data": {
            "text/html": [
              "\n",
              "  <div id=\"df-ec959d79-1aaf-49b8-9fca-3f3d7d81405a\">\n",
              "    <div class=\"colab-df-container\">\n",
              "      <div>\n",
              "<style scoped>\n",
              "    .dataframe tbody tr th:only-of-type {\n",
              "        vertical-align: middle;\n",
              "    }\n",
              "\n",
              "    .dataframe tbody tr th {\n",
              "        vertical-align: top;\n",
              "    }\n",
              "\n",
              "    .dataframe thead th {\n",
              "        text-align: right;\n",
              "    }\n",
              "</style>\n",
              "<table border=\"1\" class=\"dataframe\">\n",
              "  <thead>\n",
              "    <tr style=\"text-align: right;\">\n",
              "      <th></th>\n",
              "      <th>price</th>\n",
              "      <th>sqfeet</th>\n",
              "      <th>beds</th>\n",
              "      <th>baths</th>\n",
              "      <th>cats_allowed</th>\n",
              "      <th>dogs_allowed</th>\n",
              "      <th>smoking_allowed</th>\n",
              "      <th>wheelchair_access</th>\n",
              "      <th>electric_vehicle_charge</th>\n",
              "      <th>comes_furnished</th>\n",
              "      <th>lat</th>\n",
              "      <th>long</th>\n",
              "    </tr>\n",
              "  </thead>\n",
              "  <tbody>\n",
              "    <tr>\n",
              "      <th>price</th>\n",
              "      <td>1.000000</td>\n",
              "      <td>0.000008</td>\n",
              "      <td>0.000071</td>\n",
              "      <td>0.000160</td>\n",
              "      <td>0.001028</td>\n",
              "      <td>0.001046</td>\n",
              "      <td>0.001026</td>\n",
              "      <td>-0.000425</td>\n",
              "      <td>-0.000187</td>\n",
              "      <td>-0.000373</td>\n",
              "      <td>-0.001486</td>\n",
              "      <td>0.000810</td>\n",
              "    </tr>\n",
              "    <tr>\n",
              "      <th>sqfeet</th>\n",
              "      <td>0.000008</td>\n",
              "      <td>1.000000</td>\n",
              "      <td>0.004005</td>\n",
              "      <td>0.010575</td>\n",
              "      <td>-0.003769</td>\n",
              "      <td>-0.002765</td>\n",
              "      <td>-0.002165</td>\n",
              "      <td>-0.001228</td>\n",
              "      <td>-0.000147</td>\n",
              "      <td>0.001184</td>\n",
              "      <td>0.007120</td>\n",
              "      <td>-0.003083</td>\n",
              "    </tr>\n",
              "    <tr>\n",
              "      <th>beds</th>\n",
              "      <td>0.000071</td>\n",
              "      <td>0.004005</td>\n",
              "      <td>1.000000</td>\n",
              "      <td>0.379153</td>\n",
              "      <td>-0.023919</td>\n",
              "      <td>-0.013692</td>\n",
              "      <td>-0.001988</td>\n",
              "      <td>-0.012188</td>\n",
              "      <td>-0.005165</td>\n",
              "      <td>0.002791</td>\n",
              "      <td>0.008823</td>\n",
              "      <td>0.008232</td>\n",
              "    </tr>\n",
              "    <tr>\n",
              "      <th>baths</th>\n",
              "      <td>0.000160</td>\n",
              "      <td>0.010575</td>\n",
              "      <td>0.379153</td>\n",
              "      <td>1.000000</td>\n",
              "      <td>-0.020111</td>\n",
              "      <td>0.018065</td>\n",
              "      <td>-0.015325</td>\n",
              "      <td>0.019837</td>\n",
              "      <td>0.008657</td>\n",
              "      <td>0.039389</td>\n",
              "      <td>-0.080293</td>\n",
              "      <td>-0.005556</td>\n",
              "    </tr>\n",
              "    <tr>\n",
              "      <th>cats_allowed</th>\n",
              "      <td>0.001028</td>\n",
              "      <td>-0.003769</td>\n",
              "      <td>-0.023919</td>\n",
              "      <td>-0.020111</td>\n",
              "      <td>1.000000</td>\n",
              "      <td>0.887890</td>\n",
              "      <td>0.016238</td>\n",
              "      <td>0.122164</td>\n",
              "      <td>0.049231</td>\n",
              "      <td>-0.058808</td>\n",
              "      <td>-0.016043</td>\n",
              "      <td>0.033745</td>\n",
              "    </tr>\n",
              "    <tr>\n",
              "      <th>dogs_allowed</th>\n",
              "      <td>0.001046</td>\n",
              "      <td>-0.002765</td>\n",
              "      <td>-0.013692</td>\n",
              "      <td>0.018065</td>\n",
              "      <td>0.887890</td>\n",
              "      <td>1.000000</td>\n",
              "      <td>0.012881</td>\n",
              "      <td>0.128958</td>\n",
              "      <td>0.049158</td>\n",
              "      <td>-0.037334</td>\n",
              "      <td>-0.056580</td>\n",
              "      <td>0.018896</td>\n",
              "    </tr>\n",
              "    <tr>\n",
              "      <th>smoking_allowed</th>\n",
              "      <td>0.001026</td>\n",
              "      <td>-0.002165</td>\n",
              "      <td>-0.001988</td>\n",
              "      <td>-0.015325</td>\n",
              "      <td>0.016238</td>\n",
              "      <td>0.012881</td>\n",
              "      <td>1.000000</td>\n",
              "      <td>-0.224919</td>\n",
              "      <td>-0.096781</td>\n",
              "      <td>-0.160197</td>\n",
              "      <td>-0.177118</td>\n",
              "      <td>0.163744</td>\n",
              "    </tr>\n",
              "    <tr>\n",
              "      <th>wheelchair_access</th>\n",
              "      <td>-0.000425</td>\n",
              "      <td>-0.001228</td>\n",
              "      <td>-0.012188</td>\n",
              "      <td>0.019837</td>\n",
              "      <td>0.122164</td>\n",
              "      <td>0.128958</td>\n",
              "      <td>-0.224919</td>\n",
              "      <td>1.000000</td>\n",
              "      <td>0.192022</td>\n",
              "      <td>0.196768</td>\n",
              "      <td>0.002498</td>\n",
              "      <td>-0.025412</td>\n",
              "    </tr>\n",
              "    <tr>\n",
              "      <th>electric_vehicle_charge</th>\n",
              "      <td>-0.000187</td>\n",
              "      <td>-0.000147</td>\n",
              "      <td>-0.005165</td>\n",
              "      <td>0.008657</td>\n",
              "      <td>0.049231</td>\n",
              "      <td>0.049158</td>\n",
              "      <td>-0.096781</td>\n",
              "      <td>0.192022</td>\n",
              "      <td>1.000000</td>\n",
              "      <td>0.068812</td>\n",
              "      <td>0.025800</td>\n",
              "      <td>-0.061036</td>\n",
              "    </tr>\n",
              "    <tr>\n",
              "      <th>comes_furnished</th>\n",
              "      <td>-0.000373</td>\n",
              "      <td>0.001184</td>\n",
              "      <td>0.002791</td>\n",
              "      <td>0.039389</td>\n",
              "      <td>-0.058808</td>\n",
              "      <td>-0.037334</td>\n",
              "      <td>-0.160197</td>\n",
              "      <td>0.196768</td>\n",
              "      <td>0.068812</td>\n",
              "      <td>1.000000</td>\n",
              "      <td>0.004546</td>\n",
              "      <td>-0.027368</td>\n",
              "    </tr>\n",
              "    <tr>\n",
              "      <th>lat</th>\n",
              "      <td>-0.001486</td>\n",
              "      <td>0.007120</td>\n",
              "      <td>0.008823</td>\n",
              "      <td>-0.080293</td>\n",
              "      <td>-0.016043</td>\n",
              "      <td>-0.056580</td>\n",
              "      <td>-0.177118</td>\n",
              "      <td>0.002498</td>\n",
              "      <td>0.025800</td>\n",
              "      <td>0.004546</td>\n",
              "      <td>1.000000</td>\n",
              "      <td>-0.124309</td>\n",
              "    </tr>\n",
              "    <tr>\n",
              "      <th>long</th>\n",
              "      <td>0.000810</td>\n",
              "      <td>-0.003083</td>\n",
              "      <td>0.008232</td>\n",
              "      <td>-0.005556</td>\n",
              "      <td>0.033745</td>\n",
              "      <td>0.018896</td>\n",
              "      <td>0.163744</td>\n",
              "      <td>-0.025412</td>\n",
              "      <td>-0.061036</td>\n",
              "      <td>-0.027368</td>\n",
              "      <td>-0.124309</td>\n",
              "      <td>1.000000</td>\n",
              "    </tr>\n",
              "  </tbody>\n",
              "</table>\n",
              "</div>\n",
              "      <button class=\"colab-df-convert\" onclick=\"convertToInteractive('df-ec959d79-1aaf-49b8-9fca-3f3d7d81405a')\"\n",
              "              title=\"Convert this dataframe to an interactive table.\"\n",
              "              style=\"display:none;\">\n",
              "        \n",
              "  <svg xmlns=\"http://www.w3.org/2000/svg\" height=\"24px\"viewBox=\"0 0 24 24\"\n",
              "       width=\"24px\">\n",
              "    <path d=\"M0 0h24v24H0V0z\" fill=\"none\"/>\n",
              "    <path d=\"M18.56 5.44l.94 2.06.94-2.06 2.06-.94-2.06-.94-.94-2.06-.94 2.06-2.06.94zm-11 1L8.5 8.5l.94-2.06 2.06-.94-2.06-.94L8.5 2.5l-.94 2.06-2.06.94zm10 10l.94 2.06.94-2.06 2.06-.94-2.06-.94-.94-2.06-.94 2.06-2.06.94z\"/><path d=\"M17.41 7.96l-1.37-1.37c-.4-.4-.92-.59-1.43-.59-.52 0-1.04.2-1.43.59L10.3 9.45l-7.72 7.72c-.78.78-.78 2.05 0 2.83L4 21.41c.39.39.9.59 1.41.59.51 0 1.02-.2 1.41-.59l7.78-7.78 2.81-2.81c.8-.78.8-2.07 0-2.86zM5.41 20L4 18.59l7.72-7.72 1.47 1.35L5.41 20z\"/>\n",
              "  </svg>\n",
              "      </button>\n",
              "      \n",
              "  <style>\n",
              "    .colab-df-container {\n",
              "      display:flex;\n",
              "      flex-wrap:wrap;\n",
              "      gap: 12px;\n",
              "    }\n",
              "\n",
              "    .colab-df-convert {\n",
              "      background-color: #E8F0FE;\n",
              "      border: none;\n",
              "      border-radius: 50%;\n",
              "      cursor: pointer;\n",
              "      display: none;\n",
              "      fill: #1967D2;\n",
              "      height: 32px;\n",
              "      padding: 0 0 0 0;\n",
              "      width: 32px;\n",
              "    }\n",
              "\n",
              "    .colab-df-convert:hover {\n",
              "      background-color: #E2EBFA;\n",
              "      box-shadow: 0px 1px 2px rgba(60, 64, 67, 0.3), 0px 1px 3px 1px rgba(60, 64, 67, 0.15);\n",
              "      fill: #174EA6;\n",
              "    }\n",
              "\n",
              "    [theme=dark] .colab-df-convert {\n",
              "      background-color: #3B4455;\n",
              "      fill: #D2E3FC;\n",
              "    }\n",
              "\n",
              "    [theme=dark] .colab-df-convert:hover {\n",
              "      background-color: #434B5C;\n",
              "      box-shadow: 0px 1px 3px 1px rgba(0, 0, 0, 0.15);\n",
              "      filter: drop-shadow(0px 1px 2px rgba(0, 0, 0, 0.3));\n",
              "      fill: #FFFFFF;\n",
              "    }\n",
              "  </style>\n",
              "\n",
              "      <script>\n",
              "        const buttonEl =\n",
              "          document.querySelector('#df-ec959d79-1aaf-49b8-9fca-3f3d7d81405a button.colab-df-convert');\n",
              "        buttonEl.style.display =\n",
              "          google.colab.kernel.accessAllowed ? 'block' : 'none';\n",
              "\n",
              "        async function convertToInteractive(key) {\n",
              "          const element = document.querySelector('#df-ec959d79-1aaf-49b8-9fca-3f3d7d81405a');\n",
              "          const dataTable =\n",
              "            await google.colab.kernel.invokeFunction('convertToInteractive',\n",
              "                                                     [key], {});\n",
              "          if (!dataTable) return;\n",
              "\n",
              "          const docLinkHtml = 'Like what you see? Visit the ' +\n",
              "            '<a target=\"_blank\" href=https://colab.research.google.com/notebooks/data_table.ipynb>data table notebook</a>'\n",
              "            + ' to learn more about interactive tables.';\n",
              "          element.innerHTML = '';\n",
              "          dataTable['output_type'] = 'display_data';\n",
              "          await google.colab.output.renderOutput(dataTable, element);\n",
              "          const docLink = document.createElement('div');\n",
              "          docLink.innerHTML = docLinkHtml;\n",
              "          element.appendChild(docLink);\n",
              "        }\n",
              "      </script>\n",
              "    </div>\n",
              "  </div>\n",
              "  "
            ],
            "text/plain": [
              "                            price    sqfeet      beds     baths  cats_allowed  \\\n",
              "price                    1.000000  0.000008  0.000071  0.000160      0.001028   \n",
              "sqfeet                   0.000008  1.000000  0.004005  0.010575     -0.003769   \n",
              "beds                     0.000071  0.004005  1.000000  0.379153     -0.023919   \n",
              "baths                    0.000160  0.010575  0.379153  1.000000     -0.020111   \n",
              "cats_allowed             0.001028 -0.003769 -0.023919 -0.020111      1.000000   \n",
              "dogs_allowed             0.001046 -0.002765 -0.013692  0.018065      0.887890   \n",
              "smoking_allowed          0.001026 -0.002165 -0.001988 -0.015325      0.016238   \n",
              "wheelchair_access       -0.000425 -0.001228 -0.012188  0.019837      0.122164   \n",
              "electric_vehicle_charge -0.000187 -0.000147 -0.005165  0.008657      0.049231   \n",
              "comes_furnished         -0.000373  0.001184  0.002791  0.039389     -0.058808   \n",
              "lat                     -0.001486  0.007120  0.008823 -0.080293     -0.016043   \n",
              "long                     0.000810 -0.003083  0.008232 -0.005556      0.033745   \n",
              "\n",
              "                         dogs_allowed  smoking_allowed  wheelchair_access  \\\n",
              "price                        0.001046         0.001026          -0.000425   \n",
              "sqfeet                      -0.002765        -0.002165          -0.001228   \n",
              "beds                        -0.013692        -0.001988          -0.012188   \n",
              "baths                        0.018065        -0.015325           0.019837   \n",
              "cats_allowed                 0.887890         0.016238           0.122164   \n",
              "dogs_allowed                 1.000000         0.012881           0.128958   \n",
              "smoking_allowed              0.012881         1.000000          -0.224919   \n",
              "wheelchair_access            0.128958        -0.224919           1.000000   \n",
              "electric_vehicle_charge      0.049158        -0.096781           0.192022   \n",
              "comes_furnished             -0.037334        -0.160197           0.196768   \n",
              "lat                         -0.056580        -0.177118           0.002498   \n",
              "long                         0.018896         0.163744          -0.025412   \n",
              "\n",
              "                         electric_vehicle_charge  comes_furnished       lat  \\\n",
              "price                                  -0.000187        -0.000373 -0.001486   \n",
              "sqfeet                                 -0.000147         0.001184  0.007120   \n",
              "beds                                   -0.005165         0.002791  0.008823   \n",
              "baths                                   0.008657         0.039389 -0.080293   \n",
              "cats_allowed                            0.049231        -0.058808 -0.016043   \n",
              "dogs_allowed                            0.049158        -0.037334 -0.056580   \n",
              "smoking_allowed                        -0.096781        -0.160197 -0.177118   \n",
              "wheelchair_access                       0.192022         0.196768  0.002498   \n",
              "electric_vehicle_charge                 1.000000         0.068812  0.025800   \n",
              "comes_furnished                         0.068812         1.000000  0.004546   \n",
              "lat                                     0.025800         0.004546  1.000000   \n",
              "long                                   -0.061036        -0.027368 -0.124309   \n",
              "\n",
              "                             long  \n",
              "price                    0.000810  \n",
              "sqfeet                  -0.003083  \n",
              "beds                     0.008232  \n",
              "baths                   -0.005556  \n",
              "cats_allowed             0.033745  \n",
              "dogs_allowed             0.018896  \n",
              "smoking_allowed          0.163744  \n",
              "wheelchair_access       -0.025412  \n",
              "electric_vehicle_charge -0.061036  \n",
              "comes_furnished         -0.027368  \n",
              "lat                     -0.124309  \n",
              "long                     1.000000  "
            ]
          },
          "execution_count": 18,
          "metadata": {},
          "output_type": "execute_result"
        }
      ],
      "source": [
        "#Verificar la correlacion entre variables\n",
        "dftrain.corr()"
      ]
    },
    {
      "cell_type": "code",
      "execution_count": 19,
      "metadata": {
        "colab": {
          "base_uri": "https://localhost:8080/",
          "height": 488
        },
        "id": "KqTbdj0aX1tL",
        "outputId": "86496eb2-24e6-4b69-9684-3f381837491b"
      },
      "outputs": [
        {
          "data": {
            "text/html": [
              "\n",
              "  <div id=\"df-802468cd-20b8-41f9-ac64-331ca2dee078\">\n",
              "    <div class=\"colab-df-container\">\n",
              "      <div>\n",
              "<style scoped>\n",
              "    .dataframe tbody tr th:only-of-type {\n",
              "        vertical-align: middle;\n",
              "    }\n",
              "\n",
              "    .dataframe tbody tr th {\n",
              "        vertical-align: top;\n",
              "    }\n",
              "\n",
              "    .dataframe thead th {\n",
              "        text-align: right;\n",
              "    }\n",
              "</style>\n",
              "<table border=\"1\" class=\"dataframe\">\n",
              "  <thead>\n",
              "    <tr style=\"text-align: right;\">\n",
              "      <th></th>\n",
              "      <th>price</th>\n",
              "      <th>sqfeet</th>\n",
              "      <th>beds</th>\n",
              "      <th>baths</th>\n",
              "      <th>cats_allowed</th>\n",
              "      <th>dogs_allowed</th>\n",
              "      <th>smoking_allowed</th>\n",
              "      <th>wheelchair_access</th>\n",
              "      <th>electric_vehicle_charge</th>\n",
              "      <th>comes_furnished</th>\n",
              "      <th>...</th>\n",
              "      <th>state_sd</th>\n",
              "      <th>state_tn</th>\n",
              "      <th>state_tx</th>\n",
              "      <th>state_ut</th>\n",
              "      <th>state_va</th>\n",
              "      <th>state_vt</th>\n",
              "      <th>state_wa</th>\n",
              "      <th>state_wi</th>\n",
              "      <th>state_wv</th>\n",
              "      <th>state_wy</th>\n",
              "    </tr>\n",
              "  </thead>\n",
              "  <tbody>\n",
              "    <tr>\n",
              "      <th>0</th>\n",
              "      <td>1350</td>\n",
              "      <td>1200</td>\n",
              "      <td>2</td>\n",
              "      <td>2.0</td>\n",
              "      <td>1</td>\n",
              "      <td>1</td>\n",
              "      <td>1</td>\n",
              "      <td>0</td>\n",
              "      <td>0</td>\n",
              "      <td>0</td>\n",
              "      <td>...</td>\n",
              "      <td>0</td>\n",
              "      <td>0</td>\n",
              "      <td>0</td>\n",
              "      <td>0</td>\n",
              "      <td>0</td>\n",
              "      <td>0</td>\n",
              "      <td>0</td>\n",
              "      <td>0</td>\n",
              "      <td>0</td>\n",
              "      <td>0</td>\n",
              "    </tr>\n",
              "    <tr>\n",
              "      <th>1</th>\n",
              "      <td>1115</td>\n",
              "      <td>694</td>\n",
              "      <td>1</td>\n",
              "      <td>1.0</td>\n",
              "      <td>1</td>\n",
              "      <td>1</td>\n",
              "      <td>1</td>\n",
              "      <td>0</td>\n",
              "      <td>0</td>\n",
              "      <td>0</td>\n",
              "      <td>...</td>\n",
              "      <td>0</td>\n",
              "      <td>0</td>\n",
              "      <td>0</td>\n",
              "      <td>0</td>\n",
              "      <td>0</td>\n",
              "      <td>0</td>\n",
              "      <td>0</td>\n",
              "      <td>0</td>\n",
              "      <td>0</td>\n",
              "      <td>0</td>\n",
              "    </tr>\n",
              "    <tr>\n",
              "      <th>2</th>\n",
              "      <td>1129</td>\n",
              "      <td>900</td>\n",
              "      <td>2</td>\n",
              "      <td>2.0</td>\n",
              "      <td>0</td>\n",
              "      <td>0</td>\n",
              "      <td>1</td>\n",
              "      <td>0</td>\n",
              "      <td>0</td>\n",
              "      <td>0</td>\n",
              "      <td>...</td>\n",
              "      <td>0</td>\n",
              "      <td>0</td>\n",
              "      <td>0</td>\n",
              "      <td>0</td>\n",
              "      <td>1</td>\n",
              "      <td>0</td>\n",
              "      <td>0</td>\n",
              "      <td>0</td>\n",
              "      <td>0</td>\n",
              "      <td>0</td>\n",
              "    </tr>\n",
              "    <tr>\n",
              "      <th>3</th>\n",
              "      <td>1580</td>\n",
              "      <td>1469</td>\n",
              "      <td>3</td>\n",
              "      <td>2.0</td>\n",
              "      <td>1</td>\n",
              "      <td>1</td>\n",
              "      <td>1</td>\n",
              "      <td>0</td>\n",
              "      <td>0</td>\n",
              "      <td>0</td>\n",
              "      <td>...</td>\n",
              "      <td>0</td>\n",
              "      <td>0</td>\n",
              "      <td>0</td>\n",
              "      <td>0</td>\n",
              "      <td>0</td>\n",
              "      <td>0</td>\n",
              "      <td>0</td>\n",
              "      <td>0</td>\n",
              "      <td>0</td>\n",
              "      <td>0</td>\n",
              "    </tr>\n",
              "    <tr>\n",
              "      <th>4</th>\n",
              "      <td>995</td>\n",
              "      <td>700</td>\n",
              "      <td>1</td>\n",
              "      <td>1.0</td>\n",
              "      <td>1</td>\n",
              "      <td>1</td>\n",
              "      <td>1</td>\n",
              "      <td>0</td>\n",
              "      <td>0</td>\n",
              "      <td>0</td>\n",
              "      <td>...</td>\n",
              "      <td>0</td>\n",
              "      <td>1</td>\n",
              "      <td>0</td>\n",
              "      <td>0</td>\n",
              "      <td>0</td>\n",
              "      <td>0</td>\n",
              "      <td>0</td>\n",
              "      <td>0</td>\n",
              "      <td>0</td>\n",
              "      <td>0</td>\n",
              "    </tr>\n",
              "    <tr>\n",
              "      <th>...</th>\n",
              "      <td>...</td>\n",
              "      <td>...</td>\n",
              "      <td>...</td>\n",
              "      <td>...</td>\n",
              "      <td>...</td>\n",
              "      <td>...</td>\n",
              "      <td>...</td>\n",
              "      <td>...</td>\n",
              "      <td>...</td>\n",
              "      <td>...</td>\n",
              "      <td>...</td>\n",
              "      <td>...</td>\n",
              "      <td>...</td>\n",
              "      <td>...</td>\n",
              "      <td>...</td>\n",
              "      <td>...</td>\n",
              "      <td>...</td>\n",
              "      <td>...</td>\n",
              "      <td>...</td>\n",
              "      <td>...</td>\n",
              "      <td>...</td>\n",
              "    </tr>\n",
              "    <tr>\n",
              "      <th>346474</th>\n",
              "      <td>672</td>\n",
              "      <td>660</td>\n",
              "      <td>1</td>\n",
              "      <td>1.0</td>\n",
              "      <td>1</td>\n",
              "      <td>1</td>\n",
              "      <td>1</td>\n",
              "      <td>0</td>\n",
              "      <td>0</td>\n",
              "      <td>0</td>\n",
              "      <td>...</td>\n",
              "      <td>0</td>\n",
              "      <td>0</td>\n",
              "      <td>0</td>\n",
              "      <td>0</td>\n",
              "      <td>0</td>\n",
              "      <td>0</td>\n",
              "      <td>0</td>\n",
              "      <td>0</td>\n",
              "      <td>0</td>\n",
              "      <td>0</td>\n",
              "    </tr>\n",
              "    <tr>\n",
              "      <th>346475</th>\n",
              "      <td>2122</td>\n",
              "      <td>1099</td>\n",
              "      <td>2</td>\n",
              "      <td>2.0</td>\n",
              "      <td>1</td>\n",
              "      <td>1</td>\n",
              "      <td>1</td>\n",
              "      <td>0</td>\n",
              "      <td>0</td>\n",
              "      <td>0</td>\n",
              "      <td>...</td>\n",
              "      <td>0</td>\n",
              "      <td>0</td>\n",
              "      <td>0</td>\n",
              "      <td>0</td>\n",
              "      <td>0</td>\n",
              "      <td>0</td>\n",
              "      <td>0</td>\n",
              "      <td>0</td>\n",
              "      <td>0</td>\n",
              "      <td>0</td>\n",
              "    </tr>\n",
              "    <tr>\n",
              "      <th>346476</th>\n",
              "      <td>1014</td>\n",
              "      <td>1104</td>\n",
              "      <td>2</td>\n",
              "      <td>2.0</td>\n",
              "      <td>1</td>\n",
              "      <td>1</td>\n",
              "      <td>0</td>\n",
              "      <td>0</td>\n",
              "      <td>0</td>\n",
              "      <td>0</td>\n",
              "      <td>...</td>\n",
              "      <td>0</td>\n",
              "      <td>0</td>\n",
              "      <td>0</td>\n",
              "      <td>0</td>\n",
              "      <td>0</td>\n",
              "      <td>0</td>\n",
              "      <td>0</td>\n",
              "      <td>0</td>\n",
              "      <td>0</td>\n",
              "      <td>0</td>\n",
              "    </tr>\n",
              "    <tr>\n",
              "      <th>346477</th>\n",
              "      <td>935</td>\n",
              "      <td>1050</td>\n",
              "      <td>2</td>\n",
              "      <td>2.0</td>\n",
              "      <td>0</td>\n",
              "      <td>0</td>\n",
              "      <td>0</td>\n",
              "      <td>0</td>\n",
              "      <td>0</td>\n",
              "      <td>0</td>\n",
              "      <td>...</td>\n",
              "      <td>0</td>\n",
              "      <td>0</td>\n",
              "      <td>0</td>\n",
              "      <td>0</td>\n",
              "      <td>0</td>\n",
              "      <td>0</td>\n",
              "      <td>0</td>\n",
              "      <td>0</td>\n",
              "      <td>0</td>\n",
              "      <td>0</td>\n",
              "    </tr>\n",
              "    <tr>\n",
              "      <th>346478</th>\n",
              "      <td>1300</td>\n",
              "      <td>1350</td>\n",
              "      <td>2</td>\n",
              "      <td>2.0</td>\n",
              "      <td>1</td>\n",
              "      <td>0</td>\n",
              "      <td>1</td>\n",
              "      <td>0</td>\n",
              "      <td>0</td>\n",
              "      <td>0</td>\n",
              "      <td>...</td>\n",
              "      <td>0</td>\n",
              "      <td>0</td>\n",
              "      <td>0</td>\n",
              "      <td>0</td>\n",
              "      <td>0</td>\n",
              "      <td>0</td>\n",
              "      <td>0</td>\n",
              "      <td>0</td>\n",
              "      <td>0</td>\n",
              "      <td>0</td>\n",
              "    </tr>\n",
              "  </tbody>\n",
              "</table>\n",
              "<p>344757 rows × 491 columns</p>\n",
              "</div>\n",
              "      <button class=\"colab-df-convert\" onclick=\"convertToInteractive('df-802468cd-20b8-41f9-ac64-331ca2dee078')\"\n",
              "              title=\"Convert this dataframe to an interactive table.\"\n",
              "              style=\"display:none;\">\n",
              "        \n",
              "  <svg xmlns=\"http://www.w3.org/2000/svg\" height=\"24px\"viewBox=\"0 0 24 24\"\n",
              "       width=\"24px\">\n",
              "    <path d=\"M0 0h24v24H0V0z\" fill=\"none\"/>\n",
              "    <path d=\"M18.56 5.44l.94 2.06.94-2.06 2.06-.94-2.06-.94-.94-2.06-.94 2.06-2.06.94zm-11 1L8.5 8.5l.94-2.06 2.06-.94-2.06-.94L8.5 2.5l-.94 2.06-2.06.94zm10 10l.94 2.06.94-2.06 2.06-.94-2.06-.94-.94-2.06-.94 2.06-2.06.94z\"/><path d=\"M17.41 7.96l-1.37-1.37c-.4-.4-.92-.59-1.43-.59-.52 0-1.04.2-1.43.59L10.3 9.45l-7.72 7.72c-.78.78-.78 2.05 0 2.83L4 21.41c.39.39.9.59 1.41.59.51 0 1.02-.2 1.41-.59l7.78-7.78 2.81-2.81c.8-.78.8-2.07 0-2.86zM5.41 20L4 18.59l7.72-7.72 1.47 1.35L5.41 20z\"/>\n",
              "  </svg>\n",
              "      </button>\n",
              "      \n",
              "  <style>\n",
              "    .colab-df-container {\n",
              "      display:flex;\n",
              "      flex-wrap:wrap;\n",
              "      gap: 12px;\n",
              "    }\n",
              "\n",
              "    .colab-df-convert {\n",
              "      background-color: #E8F0FE;\n",
              "      border: none;\n",
              "      border-radius: 50%;\n",
              "      cursor: pointer;\n",
              "      display: none;\n",
              "      fill: #1967D2;\n",
              "      height: 32px;\n",
              "      padding: 0 0 0 0;\n",
              "      width: 32px;\n",
              "    }\n",
              "\n",
              "    .colab-df-convert:hover {\n",
              "      background-color: #E2EBFA;\n",
              "      box-shadow: 0px 1px 2px rgba(60, 64, 67, 0.3), 0px 1px 3px 1px rgba(60, 64, 67, 0.15);\n",
              "      fill: #174EA6;\n",
              "    }\n",
              "\n",
              "    [theme=dark] .colab-df-convert {\n",
              "      background-color: #3B4455;\n",
              "      fill: #D2E3FC;\n",
              "    }\n",
              "\n",
              "    [theme=dark] .colab-df-convert:hover {\n",
              "      background-color: #434B5C;\n",
              "      box-shadow: 0px 1px 3px 1px rgba(0, 0, 0, 0.15);\n",
              "      filter: drop-shadow(0px 1px 2px rgba(0, 0, 0, 0.3));\n",
              "      fill: #FFFFFF;\n",
              "    }\n",
              "  </style>\n",
              "\n",
              "      <script>\n",
              "        const buttonEl =\n",
              "          document.querySelector('#df-802468cd-20b8-41f9-ac64-331ca2dee078 button.colab-df-convert');\n",
              "        buttonEl.style.display =\n",
              "          google.colab.kernel.accessAllowed ? 'block' : 'none';\n",
              "\n",
              "        async function convertToInteractive(key) {\n",
              "          const element = document.querySelector('#df-802468cd-20b8-41f9-ac64-331ca2dee078');\n",
              "          const dataTable =\n",
              "            await google.colab.kernel.invokeFunction('convertToInteractive',\n",
              "                                                     [key], {});\n",
              "          if (!dataTable) return;\n",
              "\n",
              "          const docLinkHtml = 'Like what you see? Visit the ' +\n",
              "            '<a target=\"_blank\" href=https://colab.research.google.com/notebooks/data_table.ipynb>data table notebook</a>'\n",
              "            + ' to learn more about interactive tables.';\n",
              "          element.innerHTML = '';\n",
              "          dataTable['output_type'] = 'display_data';\n",
              "          await google.colab.output.renderOutput(dataTable, element);\n",
              "          const docLink = document.createElement('div');\n",
              "          docLink.innerHTML = docLinkHtml;\n",
              "          element.appendChild(docLink);\n",
              "        }\n",
              "      </script>\n",
              "    </div>\n",
              "  </div>\n",
              "  "
            ],
            "text/plain": [
              "        price  sqfeet  beds  baths  cats_allowed  dogs_allowed  \\\n",
              "0        1350    1200     2    2.0             1             1   \n",
              "1        1115     694     1    1.0             1             1   \n",
              "2        1129     900     2    2.0             0             0   \n",
              "3        1580    1469     3    2.0             1             1   \n",
              "4         995     700     1    1.0             1             1   \n",
              "...       ...     ...   ...    ...           ...           ...   \n",
              "346474    672     660     1    1.0             1             1   \n",
              "346475   2122    1099     2    2.0             1             1   \n",
              "346476   1014    1104     2    2.0             1             1   \n",
              "346477    935    1050     2    2.0             0             0   \n",
              "346478   1300    1350     2    2.0             1             0   \n",
              "\n",
              "        smoking_allowed  wheelchair_access  electric_vehicle_charge  \\\n",
              "0                     1                  0                        0   \n",
              "1                     1                  0                        0   \n",
              "2                     1                  0                        0   \n",
              "3                     1                  0                        0   \n",
              "4                     1                  0                        0   \n",
              "...                 ...                ...                      ...   \n",
              "346474                1                  0                        0   \n",
              "346475                1                  0                        0   \n",
              "346476                0                  0                        0   \n",
              "346477                0                  0                        0   \n",
              "346478                1                  0                        0   \n",
              "\n",
              "        comes_furnished  ...  state_sd  state_tn  state_tx  state_ut  \\\n",
              "0                     0  ...         0         0         0         0   \n",
              "1                     0  ...         0         0         0         0   \n",
              "2                     0  ...         0         0         0         0   \n",
              "3                     0  ...         0         0         0         0   \n",
              "4                     0  ...         0         1         0         0   \n",
              "...                 ...  ...       ...       ...       ...       ...   \n",
              "346474                0  ...         0         0         0         0   \n",
              "346475                0  ...         0         0         0         0   \n",
              "346476                0  ...         0         0         0         0   \n",
              "346477                0  ...         0         0         0         0   \n",
              "346478                0  ...         0         0         0         0   \n",
              "\n",
              "        state_va  state_vt  state_wa  state_wi  state_wv  state_wy  \n",
              "0              0         0         0         0         0         0  \n",
              "1              0         0         0         0         0         0  \n",
              "2              1         0         0         0         0         0  \n",
              "3              0         0         0         0         0         0  \n",
              "4              0         0         0         0         0         0  \n",
              "...          ...       ...       ...       ...       ...       ...  \n",
              "346474         0         0         0         0         0         0  \n",
              "346475         0         0         0         0         0         0  \n",
              "346476         0         0         0         0         0         0  \n",
              "346477         0         0         0         0         0         0  \n",
              "346478         0         0         0         0         0         0  \n",
              "\n",
              "[344757 rows x 491 columns]"
            ]
          },
          "execution_count": 19,
          "metadata": {},
          "output_type": "execute_result"
        }
      ],
      "source": [
        "#Procesamiento de las variables categóricas en el dataFrame generando variables dummies\n",
        "dftrain=pd.get_dummies(dftrain)\n",
        "dftrain"
      ]
    },
    {
      "cell_type": "code",
      "execution_count": 20,
      "metadata": {
        "id": "alrMn57Y8Jzo"
      },
      "outputs": [],
      "source": [
        "#Modulos importantes para machine learning\n",
        "from sklearn.pipeline import Pipeline\n",
        "from sklearn.compose import ColumnTransformer\n",
        "from sklearn.preprocessing import StandardScaler, OneHotEncoder"
      ]
    },
    {
      "cell_type": "code",
      "execution_count": 21,
      "metadata": {
        "id": "to5oRWU39omb"
      },
      "outputs": [],
      "source": [
        "#Generar dimensiones X, y para la evaluacion\n",
        "X=dftrain.drop('price',axis=1)\n",
        "y=dftrain['price']"
      ]
    },
    {
      "cell_type": "code",
      "execution_count": 27,
      "metadata": {
        "id": "kInkQZsL-jIX"
      },
      "outputs": [],
      "source": [
        "#Dividir los datos de entrenamiento y prueba\n",
        "from sklearn.model_selection import train_test_split\n",
        "X_train, X_test, y_train, y_test = train_test_split(X, y, test_size=0.3)"
      ]
    },
    {
      "cell_type": "code",
      "execution_count": 28,
      "metadata": {
        "colab": {
          "base_uri": "https://localhost:8080/"
        },
        "id": "A0Gnml3k_jHK",
        "outputId": "1433bdac-820b-429e-b51e-9725efe2acad"
      },
      "outputs": [
        {
          "data": {
            "text/plain": [
              "((241329, 490), (103428, 490), (241329,), (103428,))"
            ]
          },
          "execution_count": 28,
          "metadata": {},
          "output_type": "execute_result"
        }
      ],
      "source": [
        "#Revisar el tamaño de la muestra\n",
        "X_train.shape, X_test.shape, y_train.shape, y_test.shape"
      ]
    },
    {
      "cell_type": "code",
      "execution_count": 29,
      "metadata": {
        "id": "X6HGq6tt_bOP"
      },
      "outputs": [],
      "source": [
        "#Llamamos al modelo de regresion lineal\n",
        "from sklearn.linear_model import LinearRegression\n",
        "linear_regression=LinearRegression()"
      ]
    },
    {
      "cell_type": "code",
      "execution_count": 30,
      "metadata": {
        "id": "DW5BGvvyA1eF"
      },
      "outputs": [],
      "source": [
        "model_linear_regresion=Pipeline([\n",
        "    ('linear_regression',linear_regression)\n",
        "])"
      ]
    },
    {
      "cell_type": "code",
      "execution_count": 31,
      "metadata": {
        "colab": {
          "base_uri": "https://localhost:8080/"
        },
        "id": "m_98Ht6gCReh",
        "outputId": "d36656ed-3bed-4e99-e66a-e111ce82fd22"
      },
      "outputs": [
        {
          "data": {
            "text/plain": [
              "Pipeline(steps=[('linear_regression', LinearRegression())])"
            ]
          },
          "execution_count": 31,
          "metadata": {},
          "output_type": "execute_result"
        }
      ],
      "source": [
        "model_linear_regresion.fit(X_train,y_train)"
      ]
    },
    {
      "cell_type": "code",
      "execution_count": 32,
      "metadata": {
        "colab": {
          "base_uri": "https://localhost:8080/"
        },
        "id": "sJAYSEWGBPj1",
        "outputId": "c4f29fae-92db-4715-813b-724eb659f818"
      },
      "outputs": [
        {
          "data": {
            "text/plain": [
              "array([-54769.55438213,  34038.3526908 ,  25913.40830826,  19460.22790454])"
            ]
          },
          "execution_count": 32,
          "metadata": {},
          "output_type": "execute_result"
        }
      ],
      "source": [
        "#Prueba de una pequeña muestra\n",
        "muestra_datos=X_test.iloc[:4]\n",
        "model_linear_regresion.predict(muestra_datos)"
      ]
    },
    {
      "cell_type": "code",
      "execution_count": 33,
      "metadata": {
        "colab": {
          "base_uri": "https://localhost:8080/"
        },
        "id": "WMgB7N4gB2s8",
        "outputId": "24d1c1bb-500f-4589-8bda-4e75b591c57b"
      },
      "outputs": [
        {
          "data": {
            "text/plain": [
              "[775, 719, 700, 1950]"
            ]
          },
          "execution_count": 33,
          "metadata": {},
          "output_type": "execute_result"
        }
      ],
      "source": [
        "#Comparacion con valores reales\n",
        "list(y_test.iloc[:4])"
      ]
    },
    {
      "cell_type": "code",
      "execution_count": 34,
      "metadata": {
        "colab": {
          "base_uri": "https://localhost:8080/"
        },
        "id": "U_iXiQizC3bi",
        "outputId": "05442e2c-d909-4305-cadb-f90bad496dba"
      },
      "outputs": [
        {
          "data": {
            "text/plain": [
              "array([-2.28654783e+10, -1.92423467e+10, -3.78463393e+10, -2.22285870e+14,\n",
              "       -1.87407389e+10, -2.86126845e+10, -1.79791852e+10, -2.81498313e+10,\n",
              "       -2.40923200e+10, -2.17003090e+10])"
            ]
          },
          "execution_count": 34,
          "metadata": {},
          "output_type": "execute_result"
        }
      ],
      "source": [
        "#Evaluar el modelo de regresion lineal\n",
        "from sklearn.model_selection import cross_val_score\n",
        "linear_scores=cross_val_score(model_linear_regresion,X,y,scoring='neg_mean_squared_error',cv=10)\n",
        "linear_scores"
      ]
    },
    {
      "cell_type": "code",
      "execution_count": 35,
      "metadata": {
        "colab": {
          "base_uri": "https://localhost:8080/"
        },
        "id": "C0PdFFssD5pu",
        "outputId": "3691f3b2-655d-47d3-c230-fa0cc2a4c427"
      },
      "outputs": [
        {
          "data": {
            "text/plain": [
              "array([  151213.35368454,   138716.78593373,   194541.3562128 ,\n",
              "       14909254.50713712,   136896.81857616,   169152.84373583,\n",
              "         134086.48400235,   167779.11474559,   155217.00942073,\n",
              "         147310.24746193])"
            ]
          },
          "execution_count": 35,
          "metadata": {},
          "output_type": "execute_result"
        }
      ],
      "source": [
        "linear_rmse_scores=np.sqrt(-linear_scores)\n",
        "linear_rmse_scores"
      ]
    },
    {
      "cell_type": "code",
      "execution_count": 36,
      "metadata": {
        "id": "TFbyd7UeEJPE"
      },
      "outputs": [],
      "source": [
        "def display_scores(scores):\n",
        "  print('Scores: ',scores)\n",
        "  print('Mean: ',scores.mean())\n",
        "  print('Standart Deviation: ',scores.std())"
      ]
    },
    {
      "cell_type": "code",
      "execution_count": 37,
      "metadata": {
        "colab": {
          "base_uri": "https://localhost:8080/"
        },
        "id": "M07xrauEE9tf",
        "outputId": "da1c9f97-3156-4e6c-da44-cbe7e0a2eafb"
      },
      "outputs": [
        {
          "name": "stdout",
          "output_type": "stream",
          "text": [
            "Scores:  [  151213.35368454   138716.78593373   194541.3562128  14909254.50713712\n",
            "   136896.81857616   169152.84373583   134086.48400235   167779.11474559\n",
            "   155217.00942073   147310.24746193]\n",
            "Mean:  1630416.8520910768\n",
            "Standart Deviation:  4426313.455643535\n"
          ]
        }
      ],
      "source": [
        "#Resultados obtenidos de modelo de regresion lineal\n",
        "display_scores(linear_rmse_scores)"
      ]
    },
    {
      "cell_type": "code",
      "execution_count": 38,
      "metadata": {
        "colab": {
          "base_uri": "https://localhost:8080/"
        },
        "id": "ca7a18aSFcSt",
        "outputId": "83601fb8-a638-4c3a-83de-489bd0cf2788"
      },
      "outputs": [
        {
          "data": {
            "text/plain": [
              "Pipeline(steps=[('tree_reg', DecisionTreeRegressor(random_state=42))])"
            ]
          },
          "execution_count": 38,
          "metadata": {},
          "output_type": "execute_result"
        }
      ],
      "source": [
        "#Aplicar el modelo de Decision Tree Regressor\n",
        "from sklearn.tree import DecisionTreeRegressor\n",
        "tree_reg=DecisionTreeRegressor(random_state=42)\n",
        "\n",
        "model_tree_reg=Pipeline([\n",
        "    ('tree_reg',tree_reg)\n",
        "])\n",
        "\n",
        "#Entrenar el modelo\n",
        "model_tree_reg.fit(X_train,y_train)"
      ]
    },
    {
      "cell_type": "code",
      "execution_count": 39,
      "metadata": {
        "colab": {
          "base_uri": "https://localhost:8080/"
        },
        "id": "YdxVeunZGeuq",
        "outputId": "531db0da-132b-4468-b6b7-14d2aec61aba"
      },
      "outputs": [
        {
          "data": {
            "text/plain": [
              "array([-4.64914295e+09, -1.92441183e+08, -1.67997502e+10, -2.22295476e+14,\n",
              "       -1.79982650e+08, -9.06793219e+09, -1.83969993e+09, -4.65266576e+09,\n",
              "       -7.33075906e+09, -3.27186754e+08])"
            ]
          },
          "execution_count": 39,
          "metadata": {},
          "output_type": "execute_result"
        }
      ],
      "source": [
        "tree_ref_scores=cross_val_score(model_tree_reg,X,y,scoring='neg_mean_squared_error',cv=10)\n",
        "tree_ref_scores"
      ]
    },
    {
      "cell_type": "code",
      "execution_count": 40,
      "metadata": {
        "colab": {
          "base_uri": "https://localhost:8080/"
        },
        "id": "kADvYPT2G9Y6",
        "outputId": "db936601-e5bc-4496-9431-db3136aa62eb"
      },
      "outputs": [
        {
          "name": "stdout",
          "output_type": "stream",
          "text": [
            "Scores:  [6.81846240e+04 1.38723172e+04 1.29613851e+05 1.49095766e+07\n",
            " 1.34157613e+04 9.52256908e+04 4.28917233e+04 6.82104520e+04\n",
            " 8.56198520e+04 1.80883044e+04]\n",
            "Mean:  1544469.922264258\n",
            "Standart Deviation:  4455183.968741242\n"
          ]
        }
      ],
      "source": [
        "tree_rmse_scores=np.sqrt(-tree_ref_scores)\n",
        "#Resultados obtenidos de modelo de Decision Tree\n",
        "display_scores(tree_rmse_scores)"
      ]
    },
    {
      "cell_type": "code",
      "execution_count": 41,
      "metadata": {
        "id": "Kl11r-JlKeT2"
      },
      "outputs": [],
      "source": [
        "#Aplicar el modelo RandomForestRegressor\n",
        "from sklearn.ensemble import RandomForestRegressor\n",
        "forest_reg=RandomForestRegressor(n_estimators=10,random_state=42)"
      ]
    },
    {
      "cell_type": "code",
      "execution_count": 42,
      "metadata": {
        "id": "pltYTLOjLCQq"
      },
      "outputs": [],
      "source": [
        "model_forest_reg=Pipeline([\n",
        "    ('forest_reg',forest_reg)\n",
        "])"
      ]
    },
    {
      "cell_type": "code",
      "execution_count": 43,
      "metadata": {
        "colab": {
          "base_uri": "https://localhost:8080/"
        },
        "id": "LyAqk_tWMFuc",
        "outputId": "e834cd8b-7a0b-4490-d233-c058ed6cead0"
      },
      "outputs": [
        {
          "data": {
            "text/plain": [
              "Pipeline(steps=[('forest_reg',\n",
              "                 RandomForestRegressor(n_estimators=10, random_state=42))])"
            ]
          },
          "execution_count": 43,
          "metadata": {},
          "output_type": "execute_result"
        }
      ],
      "source": [
        "#Entrenar el modelo\n",
        "model_forest_reg.fit(X_train,y_train)"
      ]
    },
    {
      "cell_type": "code",
      "execution_count": 44,
      "metadata": {
        "colab": {
          "base_uri": "https://localhost:8080/"
        },
        "id": "jypbMXRJMR87",
        "outputId": "e2790df6-6d2c-4a88-ec47-eab6807696be"
      },
      "outputs": [
        {
          "data": {
            "text/plain": [
              "array([-4.64914295e+09, -1.92441183e+08, -1.67997502e+10, -2.22295476e+14,\n",
              "       -1.79982650e+08, -9.06793219e+09, -1.83969993e+09, -4.65266576e+09,\n",
              "       -7.33075906e+09, -3.27186754e+08])"
            ]
          },
          "execution_count": 44,
          "metadata": {},
          "output_type": "execute_result"
        }
      ],
      "source": [
        "forest_reg_scores=cross_val_score(model_tree_reg,X,y,scoring='neg_mean_squared_error',cv=10)\n",
        "forest_reg_scores"
      ]
    },
    {
      "cell_type": "code",
      "execution_count": 45,
      "metadata": {
        "colab": {
          "base_uri": "https://localhost:8080/"
        },
        "id": "xdYUkSV8Mfrh",
        "outputId": "26c46d9f-03ef-441e-85a2-44f69aff788b"
      },
      "outputs": [
        {
          "name": "stdout",
          "output_type": "stream",
          "text": [
            "Scores:  [6.81846240e+04 1.38723172e+04 1.29613851e+05 1.49095766e+07\n",
            " 1.34157613e+04 9.52256908e+04 4.28917233e+04 6.82104520e+04\n",
            " 8.56198520e+04 1.80883044e+04]\n",
            "Mean:  1544469.922264258\n",
            "Standart Deviation:  4455183.968741242\n"
          ]
        }
      ],
      "source": [
        "forest_rmse_score=np.sqrt(-forest_reg_scores)\n",
        "#Resultados obtenidos de modelo de Random Forest\n",
        "display_scores(forest_rmse_score)"
      ]
    },
    {
      "cell_type": "code",
      "execution_count": 35,
      "metadata": {
        "id": "Blust2BxP52v"
      },
      "outputs": [],
      "source": [
        "list_models=['Linear Regression','Decision Tree','Random Forest']\n",
        "list_mean=[1630416,1544469,1544469]\n",
        "list_sd=[4426313,4455183,4455183]"
      ]
    },
    {
      "cell_type": "code",
      "execution_count": 36,
      "metadata": {
        "colab": {
          "base_uri": "https://localhost:8080/",
          "height": 143
        },
        "id": "M71QKJdDhKKP",
        "outputId": "42896cb0-265c-495a-a059-8f9b8d428198"
      },
      "outputs": [
        {
          "data": {
            "text/html": [
              "\n",
              "  <div id=\"df-1f21b36f-85d1-480c-a5b3-a727af330f39\">\n",
              "    <div class=\"colab-df-container\">\n",
              "      <div>\n",
              "<style scoped>\n",
              "    .dataframe tbody tr th:only-of-type {\n",
              "        vertical-align: middle;\n",
              "    }\n",
              "\n",
              "    .dataframe tbody tr th {\n",
              "        vertical-align: top;\n",
              "    }\n",
              "\n",
              "    .dataframe thead th {\n",
              "        text-align: right;\n",
              "    }\n",
              "</style>\n",
              "<table border=\"1\" class=\"dataframe\">\n",
              "  <thead>\n",
              "    <tr style=\"text-align: right;\">\n",
              "      <th></th>\n",
              "      <th>Modelos</th>\n",
              "      <th>Mean</th>\n",
              "      <th>Standard Desviation</th>\n",
              "    </tr>\n",
              "  </thead>\n",
              "  <tbody>\n",
              "    <tr>\n",
              "      <th>0</th>\n",
              "      <td>Linear Regression</td>\n",
              "      <td>1630416</td>\n",
              "      <td>4426313</td>\n",
              "    </tr>\n",
              "    <tr>\n",
              "      <th>1</th>\n",
              "      <td>Decision Tree</td>\n",
              "      <td>1544469</td>\n",
              "      <td>4455183</td>\n",
              "    </tr>\n",
              "    <tr>\n",
              "      <th>2</th>\n",
              "      <td>Random Forest</td>\n",
              "      <td>1544469</td>\n",
              "      <td>4455183</td>\n",
              "    </tr>\n",
              "  </tbody>\n",
              "</table>\n",
              "</div>\n",
              "      <button class=\"colab-df-convert\" onclick=\"convertToInteractive('df-1f21b36f-85d1-480c-a5b3-a727af330f39')\"\n",
              "              title=\"Convert this dataframe to an interactive table.\"\n",
              "              style=\"display:none;\">\n",
              "        \n",
              "  <svg xmlns=\"http://www.w3.org/2000/svg\" height=\"24px\"viewBox=\"0 0 24 24\"\n",
              "       width=\"24px\">\n",
              "    <path d=\"M0 0h24v24H0V0z\" fill=\"none\"/>\n",
              "    <path d=\"M18.56 5.44l.94 2.06.94-2.06 2.06-.94-2.06-.94-.94-2.06-.94 2.06-2.06.94zm-11 1L8.5 8.5l.94-2.06 2.06-.94-2.06-.94L8.5 2.5l-.94 2.06-2.06.94zm10 10l.94 2.06.94-2.06 2.06-.94-2.06-.94-.94-2.06-.94 2.06-2.06.94z\"/><path d=\"M17.41 7.96l-1.37-1.37c-.4-.4-.92-.59-1.43-.59-.52 0-1.04.2-1.43.59L10.3 9.45l-7.72 7.72c-.78.78-.78 2.05 0 2.83L4 21.41c.39.39.9.59 1.41.59.51 0 1.02-.2 1.41-.59l7.78-7.78 2.81-2.81c.8-.78.8-2.07 0-2.86zM5.41 20L4 18.59l7.72-7.72 1.47 1.35L5.41 20z\"/>\n",
              "  </svg>\n",
              "      </button>\n",
              "      \n",
              "  <style>\n",
              "    .colab-df-container {\n",
              "      display:flex;\n",
              "      flex-wrap:wrap;\n",
              "      gap: 12px;\n",
              "    }\n",
              "\n",
              "    .colab-df-convert {\n",
              "      background-color: #E8F0FE;\n",
              "      border: none;\n",
              "      border-radius: 50%;\n",
              "      cursor: pointer;\n",
              "      display: none;\n",
              "      fill: #1967D2;\n",
              "      height: 32px;\n",
              "      padding: 0 0 0 0;\n",
              "      width: 32px;\n",
              "    }\n",
              "\n",
              "    .colab-df-convert:hover {\n",
              "      background-color: #E2EBFA;\n",
              "      box-shadow: 0px 1px 2px rgba(60, 64, 67, 0.3), 0px 1px 3px 1px rgba(60, 64, 67, 0.15);\n",
              "      fill: #174EA6;\n",
              "    }\n",
              "\n",
              "    [theme=dark] .colab-df-convert {\n",
              "      background-color: #3B4455;\n",
              "      fill: #D2E3FC;\n",
              "    }\n",
              "\n",
              "    [theme=dark] .colab-df-convert:hover {\n",
              "      background-color: #434B5C;\n",
              "      box-shadow: 0px 1px 3px 1px rgba(0, 0, 0, 0.15);\n",
              "      filter: drop-shadow(0px 1px 2px rgba(0, 0, 0, 0.3));\n",
              "      fill: #FFFFFF;\n",
              "    }\n",
              "  </style>\n",
              "\n",
              "      <script>\n",
              "        const buttonEl =\n",
              "          document.querySelector('#df-1f21b36f-85d1-480c-a5b3-a727af330f39 button.colab-df-convert');\n",
              "        buttonEl.style.display =\n",
              "          google.colab.kernel.accessAllowed ? 'block' : 'none';\n",
              "\n",
              "        async function convertToInteractive(key) {\n",
              "          const element = document.querySelector('#df-1f21b36f-85d1-480c-a5b3-a727af330f39');\n",
              "          const dataTable =\n",
              "            await google.colab.kernel.invokeFunction('convertToInteractive',\n",
              "                                                     [key], {});\n",
              "          if (!dataTable) return;\n",
              "\n",
              "          const docLinkHtml = 'Like what you see? Visit the ' +\n",
              "            '<a target=\"_blank\" href=https://colab.research.google.com/notebooks/data_table.ipynb>data table notebook</a>'\n",
              "            + ' to learn more about interactive tables.';\n",
              "          element.innerHTML = '';\n",
              "          dataTable['output_type'] = 'display_data';\n",
              "          await google.colab.output.renderOutput(dataTable, element);\n",
              "          const docLink = document.createElement('div');\n",
              "          docLink.innerHTML = docLinkHtml;\n",
              "          element.appendChild(docLink);\n",
              "        }\n",
              "      </script>\n",
              "    </div>\n",
              "  </div>\n",
              "  "
            ],
            "text/plain": [
              "             Modelos     Mean Standard Desviation\n",
              "0  Linear Regression  1630416             4426313\n",
              "1      Decision Tree  1544469             4455183\n",
              "2      Random Forest  1544469             4455183"
            ]
          },
          "execution_count": 36,
          "metadata": {},
          "output_type": "execute_result"
        }
      ],
      "source": [
        "#Realizar una comparacion entre los resultados obtenidos en los 3 modelos\n",
        "Resumen=pd.DataFrame([list_models,list_mean,list_sd])\n",
        "Resumen=Resumen.T\n",
        "Resumen = Resumen.rename(columns={0:'Modelos',\n",
        "                                   1:'Mean',\n",
        "                                   2:'Standard Desviation'})\n",
        "Resumen"
      ]
    },
    {
      "cell_type": "code",
      "execution_count": 27,
      "metadata": {
        "id": "xjOaNklogx1L"
      },
      "outputs": [],
      "source": [
        "#Exportacion de los datos procesados\n",
        "X.to_csv('drive/MyDrive/ML-Henry/X.csv')\n",
        "y.to_csv('drive/MyDrive/ML-Henry/y.csv')"
      ]
    },
    {
      "cell_type": "markdown",
      "metadata": {
        "id": "HScGQ_F7S7Te"
      },
      "source": [
        "###Afinar el modelo elegido"
      ]
    },
    {
      "cell_type": "code",
      "execution_count": 47,
      "metadata": {
        "id": "1pBXexJ0S6iF"
      },
      "outputs": [],
      "source": [
        "from sklearn.model_selection import GridSearchCV"
      ]
    },
    {
      "cell_type": "code",
      "execution_count": 48,
      "metadata": {
        "id": "UwbgqJgITOrr"
      },
      "outputs": [],
      "source": [
        "#Lista de posibles parametros\n",
        "n_estimators=[3,10,30,50,80,100]\n",
        "min_samples_split=[2,4,6,8]\n",
        "max_depth=[2,4,6,8,10]\n",
        "\n",
        "params={\n",
        "    'forest_reg__n_estimators':n_estimators,\n",
        "    'forest_reg__min_samples_split':min_samples_split,\n",
        "    'forest_reg__max_depth':max_depth\n",
        "}"
      ]
    },
    {
      "cell_type": "code",
      "execution_count": 49,
      "metadata": {
        "id": "ZIKQymJIUaGL"
      },
      "outputs": [],
      "source": [
        "#Definicion del grid de busqueda\n",
        "grid=GridSearchCV(model_forest_reg,param_grid=params,cv=10,scoring='neg_mean_squared_error',verbose=2)"
      ]
    },
    {
      "cell_type": "code",
      "execution_count": null,
      "metadata": {
        "colab": {
          "base_uri": "https://localhost:8080/"
        },
        "id": "_iK6p8N3VOCu",
        "outputId": "636c4509-5ea4-4707-826d-7db528abad19"
      },
      "outputs": [
        {
          "name": "stdout",
          "output_type": "stream",
          "text": [
            "Fitting 10 folds for each of 120 candidates, totalling 1200 fits\n"
          ]
        }
      ],
      "source": [
        "grid.fit(X,y)"
      ]
    }
  ],
  "metadata": {
    "colab": {
      "provenance": []
    },
    "kernelspec": {
      "display_name": "Python 3",
      "language": "python",
      "name": "python3"
    },
    "language_info": {
      "name": "python",
      "version": "3.10.5 (tags/v3.10.5:f377153, Jun  6 2022, 16:14:13) [MSC v.1929 64 bit (AMD64)]"
    },
    "vscode": {
      "interpreter": {
        "hash": "107d7b120a5b68773a87d4067e673630b35702e55ebab3138143d08b1c4d7cbc"
      }
    }
  },
  "nbformat": 4,
  "nbformat_minor": 0
}
